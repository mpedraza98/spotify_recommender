{
  "cells": [
    {
      "cell_type": "markdown",
      "metadata": {
        "id": "view-in-github",
        "colab_type": "text"
      },
      "source": [
        "<a href=\"https://colab.research.google.com/github/mpedraza98/spotify_recommender/blob/main/code/retrieve_data.ipynb\" target=\"_parent\"><img src=\"https://colab.research.google.com/assets/colab-badge.svg\" alt=\"Open In Colab\"/></a>"
      ]
    },
    {
      "cell_type": "markdown",
      "source": [
        "In this notebook we will create our datasets. The original json files for one million playlists were retrieved from https://www.aicrowd.com/challenges/spotify-million-playlist-dataset-challenge/dataset_files "
      ],
      "metadata": {
        "id": "BmpsohWwehFP"
      },
      "id": "BmpsohWwehFP"
    },
    {
      "cell_type": "code",
      "execution_count": null,
      "id": "4c2c0d8e",
      "metadata": {
        "id": "4c2c0d8e"
      },
      "outputs": [],
      "source": [
        "import json\n",
        "from tqdm import tqdm\n",
        "import pandas as pd"
      ]
    },
    {
      "cell_type": "code",
      "execution_count": null,
      "id": "56436c8f",
      "metadata": {
        "id": "56436c8f"
      },
      "outputs": [],
      "source": [
        "import os, fnmatch\n",
        "from requests.exceptions import ReadTimeout\n",
        "import gc\n",
        "import spotipy\n",
        "from spotipy.oauth2 import SpotifyClientCredentials\n",
        "import spotipy.util as util\n",
        "from operator import itemgetter"
      ]
    },
    {
      "cell_type": "markdown",
      "id": "a2ffd658",
      "metadata": {
        "id": "a2ffd658"
      },
      "source": [
        "# Inspecting the data\n",
        "\n",
        "We want to take a look at the dataset and its format and compare them with the information provided by the metadata file"
      ]
    },
    {
      "cell_type": "markdown",
      "id": "d4d87697",
      "metadata": {
        "id": "d4d87697"
      },
      "source": [
        "### `playlists` field \n",
        "This is an array that typically contains 1,000 playlists. Each playlist is a dictionary that contains the following fields:\n",
        "\n",
        "\n",
        "* ***pid*** - integer - playlist id - the MPD ID of this playlist. This is an integer between 0 and 999,999.\n",
        "* ***name*** - string - the name of the playlist \n",
        "* ***description*** - optional string - if present, the description given to the playlist.  Note that user-provided playlist descrptions are a relatively new feature of Spotify, so most playlists do not have descriptions.\n",
        "* ***modified_at*** - seconds - timestamp (in seconds since the epoch) when this playlist was last updated. Times are rounded to midnight GMT of the date when the playlist was last updated.\n",
        "* ***num_artists*** - the total number of unique artists for the tracks in the playlist.\n",
        "* ***num_albums*** - the number of unique albums for the tracks in the playlist\n",
        "* ***num_tracks*** - the number of tracks in the playlist\n",
        "* ***num_followers*** - the number of followers this playlist had at the time the MPD was created. (Note that the follower count does not including the playlist creator)\n",
        "* ***num_edits*** - the number of separate editing sessions. Tracks added in a two hour window are considered to be added in a single editing session.\n",
        "* ***duration_ms*** - the total duration of all the tracks in the playlist (in milliseconds)\n",
        "* ***collaborative*** -  boolean - if true, the playlist is a collaborative playlist. Multiple users may contribute tracks to a collaborative playlist.\n",
        "* ***tracks*** - an array of information about each track in the playlist. Each element in the array is a dictionary with the following fields:\n",
        "   * ***track_name*** - the name of the track\n",
        "   * ***track_uri*** - the Spotify URI of the track\n",
        "   * ***album_name*** - the name of the track's album\n",
        "   * ***album_uri*** - the Spotify URI of the album\n",
        "   * ***artist_name*** - the name of the track's primary artist\n",
        "   * ***artist_uri*** - the Spotify URI of track's primary artist\n",
        "   * ***duration_ms*** - the duration of the track in milliseconds\n",
        "   * ***pos*** - the position of the track in the playlist (zero-based)\n",
        "\n",
        "\n",
        "Initially we will try to make a classification based on the 'Playlist's Name' "
      ]
    },
    {
      "cell_type": "markdown",
      "id": "c7ddf7d6",
      "metadata": {
        "id": "c7ddf7d6"
      },
      "source": [
        "Let's create a table for every playlist, so that we can have the information in all of them"
      ]
    },
    {
      "cell_type": "code",
      "execution_count": null,
      "id": "84b01772",
      "metadata": {
        "id": "84b01772"
      },
      "outputs": [],
      "source": [
        "# Change this path to your own directory to run the code\n",
        "path = '/home/mapedrazaj/Desktop/math_project/spotify_million_playlist_dataset/data_csv/'\n",
        "path_extra = '/home/mapedrazaj/Desktop/math_project/spotify_million_playlist_dataset/data_csv_extra/'"
      ]
    },
    {
      "cell_type": "code",
      "execution_count": null,
      "id": "267c80b8",
      "metadata": {
        "id": "267c80b8"
      },
      "outputs": [],
      "source": [
        "df = pd.read_csv(path+'slice_1_tracks.csv', header= None)"
      ]
    },
    {
      "cell_type": "code",
      "execution_count": null,
      "id": "0ace2459",
      "metadata": {
        "id": "0ace2459",
        "outputId": "710d7fb6-2f7a-459c-8f11-837cbf22f4f3"
      },
      "outputs": [
        {
          "data": {
            "text/html": [
              "<div>\n",
              "<style scoped>\n",
              "    .dataframe tbody tr th:only-of-type {\n",
              "        vertical-align: middle;\n",
              "    }\n",
              "\n",
              "    .dataframe tbody tr th {\n",
              "        vertical-align: top;\n",
              "    }\n",
              "\n",
              "    .dataframe thead th {\n",
              "        text-align: right;\n",
              "    }\n",
              "</style>\n",
              "<table border=\"1\" class=\"dataframe\">\n",
              "  <thead>\n",
              "    <tr style=\"text-align: right;\">\n",
              "      <th></th>\n",
              "      <th>0</th>\n",
              "      <th>1</th>\n",
              "      <th>2</th>\n",
              "      <th>3</th>\n",
              "      <th>4</th>\n",
              "      <th>5</th>\n",
              "      <th>6</th>\n",
              "      <th>7</th>\n",
              "      <th>8</th>\n",
              "    </tr>\n",
              "  </thead>\n",
              "  <tbody>\n",
              "    <tr>\n",
              "      <th>0</th>\n",
              "      <td>10000</td>\n",
              "      <td>Magic</td>\n",
              "      <td>spotify:track:23khhseCLQqVMCIT1WMAns</td>\n",
              "      <td>Ghost Stories</td>\n",
              "      <td>spotify:album:2G4AUqfwxcV1UdQjm2ouYr</td>\n",
              "      <td>Coldplay</td>\n",
              "      <td>spotify:artist:4gzpq5DPGxSnKTe4SA8HAU</td>\n",
              "      <td>285014</td>\n",
              "      <td>0</td>\n",
              "    </tr>\n",
              "    <tr>\n",
              "      <th>1</th>\n",
              "      <td>10000</td>\n",
              "      <td>A Sky Full of Stars</td>\n",
              "      <td>spotify:track:0FDzzruyVECATHXKHFs9eJ</td>\n",
              "      <td>Ghost Stories</td>\n",
              "      <td>spotify:album:2G4AUqfwxcV1UdQjm2ouYr</td>\n",
              "      <td>Coldplay</td>\n",
              "      <td>spotify:artist:4gzpq5DPGxSnKTe4SA8HAU</td>\n",
              "      <td>268466</td>\n",
              "      <td>1</td>\n",
              "    </tr>\n",
              "    <tr>\n",
              "      <th>2</th>\n",
              "      <td>10000</td>\n",
              "      <td>Every Little Thing She Does Is Magic</td>\n",
              "      <td>spotify:track:5DnUFzGSrLiiAJRxKoiwFv</td>\n",
              "      <td>Symphonicities</td>\n",
              "      <td>spotify:album:1dpyonY9ev2z5a7rwfERZh</td>\n",
              "      <td>Sting</td>\n",
              "      <td>spotify:artist:0Ty63ceoRnnJKVEYP0VQpk</td>\n",
              "      <td>296826</td>\n",
              "      <td>2</td>\n",
              "    </tr>\n",
              "    <tr>\n",
              "      <th>3</th>\n",
              "      <td>10000</td>\n",
              "      <td>I Wanna Be Your Lover - Single Version</td>\n",
              "      <td>spotify:track:4gi2ioQwGOBXTrXlBR9RfQ</td>\n",
              "      <td>The Hits 2</td>\n",
              "      <td>spotify:album:2E5Jr8tcyqKrGzGPmNA3il</td>\n",
              "      <td>Prince</td>\n",
              "      <td>spotify:artist:5a2EaR3hamoenG9rDuVn8j</td>\n",
              "      <td>180080</td>\n",
              "      <td>3</td>\n",
              "    </tr>\n",
              "    <tr>\n",
              "      <th>4</th>\n",
              "      <td>10000</td>\n",
              "      <td>Raspberry Beret</td>\n",
              "      <td>spotify:track:5jSz894ljfWE0IcHBSM39i</td>\n",
              "      <td>Around The World In A Day</td>\n",
              "      <td>spotify:album:5FbrTPPlaNSOsChhKUZxcu</td>\n",
              "      <td>Prince</td>\n",
              "      <td>spotify:artist:5a2EaR3hamoenG9rDuVn8j</td>\n",
              "      <td>215173</td>\n",
              "      <td>4</td>\n",
              "    </tr>\n",
              "  </tbody>\n",
              "</table>\n",
              "</div>"
            ],
            "text/plain": [
              "       0                                       1  \\\n",
              "0  10000                                   Magic   \n",
              "1  10000                     A Sky Full of Stars   \n",
              "2  10000    Every Little Thing She Does Is Magic   \n",
              "3  10000  I Wanna Be Your Lover - Single Version   \n",
              "4  10000                         Raspberry Beret   \n",
              "\n",
              "                                      2                          3  \\\n",
              "0  spotify:track:23khhseCLQqVMCIT1WMAns              Ghost Stories   \n",
              "1  spotify:track:0FDzzruyVECATHXKHFs9eJ              Ghost Stories   \n",
              "2  spotify:track:5DnUFzGSrLiiAJRxKoiwFv             Symphonicities   \n",
              "3  spotify:track:4gi2ioQwGOBXTrXlBR9RfQ                 The Hits 2   \n",
              "4  spotify:track:5jSz894ljfWE0IcHBSM39i  Around The World In A Day   \n",
              "\n",
              "                                      4         5  \\\n",
              "0  spotify:album:2G4AUqfwxcV1UdQjm2ouYr  Coldplay   \n",
              "1  spotify:album:2G4AUqfwxcV1UdQjm2ouYr  Coldplay   \n",
              "2  spotify:album:1dpyonY9ev2z5a7rwfERZh     Sting   \n",
              "3  spotify:album:2E5Jr8tcyqKrGzGPmNA3il    Prince   \n",
              "4  spotify:album:5FbrTPPlaNSOsChhKUZxcu    Prince   \n",
              "\n",
              "                                       6       7  8  \n",
              "0  spotify:artist:4gzpq5DPGxSnKTe4SA8HAU  285014  0  \n",
              "1  spotify:artist:4gzpq5DPGxSnKTe4SA8HAU  268466  1  \n",
              "2  spotify:artist:0Ty63ceoRnnJKVEYP0VQpk  296826  2  \n",
              "3  spotify:artist:5a2EaR3hamoenG9rDuVn8j  180080  3  \n",
              "4  spotify:artist:5a2EaR3hamoenG9rDuVn8j  215173  4  "
            ]
          },
          "execution_count": 20,
          "metadata": {},
          "output_type": "execute_result"
        }
      ],
      "source": [
        "df.head()"
      ]
    },
    {
      "cell_type": "code",
      "execution_count": null,
      "id": "93d43ead",
      "metadata": {
        "id": "93d43ead"
      },
      "outputs": [],
      "source": [
        "# This are the spotify credentials, you can obtain your credentials at \n",
        "# https://developer.spotify.com/documentation/web-api/tutorials/client-credentials-flow\n",
        "\n",
        "client_credentials_manager = SpotifyClientCredentials(client_id='d60d9d1a247f4e1494d740bd0e056fb7', client_secret='f2fd3b8f4ac945fbbf4f5de624379cc4')\n",
        "spotify = spotipy.Spotify(client_credentials_manager = client_credentials_manager, requests_timeout=10, retries=10)"
      ]
    },
    {
      "cell_type": "code",
      "execution_count": null,
      "id": "50898318",
      "metadata": {
        "id": "50898318"
      },
      "outputs": [],
      "source": [
        "# these are the features we want to retrieve from the api\n",
        "track_features = ['danceability', 'energy','key','loudness','mode','speechiness','acousticness','instrumentalness','liveness','valence','tempo']\n"
      ]
    },
    {
      "cell_type": "code",
      "execution_count": null,
      "id": "97c4d7d0",
      "metadata": {
        "id": "97c4d7d0",
        "outputId": "ef3e24ec-aa5c-407e-e682-6e61308fdceb"
      },
      "outputs": [
        {
          "data": {
            "text/plain": [
              "{'danceability': 0.793,\n",
              " 'energy': 0.442,\n",
              " 'key': 8,\n",
              " 'loudness': -11.293,\n",
              " 'mode': 0,\n",
              " 'speechiness': 0.0564,\n",
              " 'acousticness': 0.236,\n",
              " 'instrumentalness': 0.00163,\n",
              " 'liveness': 0.0662,\n",
              " 'valence': 0.833,\n",
              " 'tempo': 115.995,\n",
              " 'type': 'audio_features',\n",
              " 'id': '4gi2ioQwGOBXTrXlBR9RfQ',\n",
              " 'uri': 'spotify:track:4gi2ioQwGOBXTrXlBR9RfQ',\n",
              " 'track_href': 'https://api.spotify.com/v1/tracks/4gi2ioQwGOBXTrXlBR9RfQ',\n",
              " 'analysis_url': 'https://api.spotify.com/v1/audio-analysis/4gi2ioQwGOBXTrXlBR9RfQ',\n",
              " 'duration_ms': 180080,\n",
              " 'time_signature': 3}"
            ]
          },
          "execution_count": 22,
          "metadata": {},
          "output_type": "execute_result"
        }
      ],
      "source": [
        "spotify.audio_features('spotify:track:4gi2ioQwGOBXTrXlBR9RfQ')[0]"
      ]
    },
    {
      "cell_type": "code",
      "execution_count": null,
      "id": "51cca0be",
      "metadata": {
        "id": "51cca0be",
        "outputId": "81cb6e26-b889-485d-dc37-48e49b32c33a"
      },
      "outputs": [
        {
          "name": "stdout",
          "output_type": "stream",
          "text": [
            "slice_2_tracks.csv\n"
          ]
        },
        {
          "name": "stderr",
          "output_type": "stream",
          "text": [
            "100%|███████████████████████████████████| 64939/64939 [1:46:15<00:00, 10.18it/s]\n"
          ]
        },
        {
          "name": "stdout",
          "output_type": "stream",
          "text": [
            "done\n",
            "-------------\n",
            "slice_1_tracks.csv\n"
          ]
        },
        {
          "name": "stderr",
          "output_type": "stream",
          "text": [
            "100%|███████████████████████████████████| 66648/66648 [1:49:20<00:00, 10.16it/s]\n"
          ]
        },
        {
          "name": "stdout",
          "output_type": "stream",
          "text": [
            "done\n",
            "-------------\n",
            "slice_43_tracks.csv\n"
          ]
        },
        {
          "name": "stderr",
          "output_type": "stream",
          "text": [
            "100%|███████████████████████████████████| 66948/66948 [1:50:22<00:00, 10.11it/s]\n"
          ]
        },
        {
          "name": "stdout",
          "output_type": "stream",
          "text": [
            "done\n",
            "-------------\n",
            "slice_15_tracks.csv\n"
          ]
        },
        {
          "name": "stderr",
          "output_type": "stream",
          "text": [
            "100%|███████████████████████████████████| 67125/67125 [1:50:09<00:00, 10.16it/s]\n"
          ]
        },
        {
          "name": "stdout",
          "output_type": "stream",
          "text": [
            "done\n",
            "-------------\n",
            "slice_49_tracks.csv\n"
          ]
        },
        {
          "name": "stderr",
          "output_type": "stream",
          "text": [
            "100%|███████████████████████████████████| 65803/65803 [1:48:10<00:00, 10.14it/s]\n"
          ]
        },
        {
          "name": "stdout",
          "output_type": "stream",
          "text": [
            "done\n",
            "-------------\n",
            "slice_38_tracks.csv\n"
          ]
        },
        {
          "name": "stderr",
          "output_type": "stream",
          "text": [
            "100%|███████████████████████████████████| 68859/68859 [1:49:59<00:00, 10.43it/s]\n"
          ]
        },
        {
          "name": "stdout",
          "output_type": "stream",
          "text": [
            "done\n",
            "-------------\n",
            "slice_3_tracks.csv\n"
          ]
        },
        {
          "name": "stderr",
          "output_type": "stream",
          "text": [
            "100%|███████████████████████████████████| 69441/69441 [1:50:22<00:00, 10.49it/s]\n"
          ]
        },
        {
          "name": "stdout",
          "output_type": "stream",
          "text": [
            "done\n",
            "-------------\n",
            "slice_36_tracks.csv\n"
          ]
        },
        {
          "name": "stderr",
          "output_type": "stream",
          "text": [
            "100%|███████████████████████████████████| 67382/67382 [1:44:32<00:00, 10.74it/s]\n"
          ]
        },
        {
          "name": "stdout",
          "output_type": "stream",
          "text": [
            "done\n",
            "-------------\n",
            "slice_48_tracks.csv\n"
          ]
        },
        {
          "name": "stderr",
          "output_type": "stream",
          "text": [
            "100%|███████████████████████████████████| 64845/64845 [1:41:32<00:00, 10.64it/s]\n"
          ]
        },
        {
          "name": "stdout",
          "output_type": "stream",
          "text": [
            "done\n",
            "-------------\n",
            "slice_70_tracks.csv\n"
          ]
        },
        {
          "name": "stderr",
          "output_type": "stream",
          "text": [
            "100%|███████████████████████████████████| 63292/63292 [1:40:29<00:00, 10.50it/s]\n"
          ]
        },
        {
          "name": "stdout",
          "output_type": "stream",
          "text": [
            "done\n",
            "-------------\n",
            "CPU times: user 1h 20min 25s, sys: 6min 1s, total: 1h 26min 27s\n",
            "Wall time: 17h 51min 32s\n"
          ]
        }
      ],
      "source": [
        "%%time\n",
        "filenames = fnmatch.filter(os.listdir(path), '*_tracks.csv')\n",
        "failed_tracks = []\n",
        "for file in filenames[:10]:\n",
        "    c = 0\n",
        "    print(file)\n",
        "    extra_features = []\n",
        "    df = pd.read_csv(path + file, header= None)\n",
        "    for i in tqdm(df[2].values):\n",
        "        try:\n",
        "            temp_dict = spotify.audio_features(i)[0]\n",
        "            temp_features = itemgetter(*track_features)(temp_dict)\n",
        "            \n",
        "        except ReadTimeout:\n",
        "            c += 1\n",
        "            failed_tracks.append(i)\n",
        "            temp_features = [-999]*11\n",
        "        \n",
        "        extra_features.append(temp_features)            \n",
        "#        temp_dict = spotify.audio_features(i)[0]\n",
        "    temp_df = pd.DataFrame(extra_features)\n",
        "    df = pd.concat([df, temp_df], axis = 1)\n",
        "    df.to_csv(path_extra + file,header=False, index=False)\n",
        "    temp_df.head()\n",
        "    del(df)\n",
        "    del(temp_df)\n",
        "    gc.collect()\n",
        "    print('done')\n",
        "    print('-------------')\n",
        "    "
      ]
    },
    {
      "cell_type": "code",
      "execution_count": null,
      "id": "c21bdc4f",
      "metadata": {
        "id": "c21bdc4f"
      },
      "outputs": [],
      "source": [
        "temp_df = pd.DataFrame(extra_features)"
      ]
    },
    {
      "cell_type": "code",
      "execution_count": null,
      "id": "7d9a6cbb",
      "metadata": {
        "id": "7d9a6cbb",
        "outputId": "ceced0d8-d2b4-4cdd-ea9a-3015cacfb2bf"
      },
      "outputs": [
        {
          "data": {
            "text/html": [
              "<div>\n",
              "<style scoped>\n",
              "    .dataframe tbody tr th:only-of-type {\n",
              "        vertical-align: middle;\n",
              "    }\n",
              "\n",
              "    .dataframe tbody tr th {\n",
              "        vertical-align: top;\n",
              "    }\n",
              "\n",
              "    .dataframe thead th {\n",
              "        text-align: right;\n",
              "    }\n",
              "</style>\n",
              "<table border=\"1\" class=\"dataframe\">\n",
              "  <thead>\n",
              "    <tr style=\"text-align: right;\">\n",
              "      <th></th>\n",
              "      <th>0</th>\n",
              "      <th>1</th>\n",
              "      <th>2</th>\n",
              "      <th>3</th>\n",
              "      <th>4</th>\n",
              "      <th>5</th>\n",
              "      <th>6</th>\n",
              "      <th>7</th>\n",
              "      <th>8</th>\n",
              "      <th>9</th>\n",
              "      <th>10</th>\n",
              "    </tr>\n",
              "  </thead>\n",
              "  <tbody>\n",
              "    <tr>\n",
              "      <th>0</th>\n",
              "      <td>0.674</td>\n",
              "      <td>0.413</td>\n",
              "      <td>2</td>\n",
              "      <td>-7.816</td>\n",
              "      <td>1</td>\n",
              "      <td>0.0274</td>\n",
              "      <td>0.836</td>\n",
              "      <td>0.000019</td>\n",
              "      <td>0.0980</td>\n",
              "      <td>0.503</td>\n",
              "      <td>124.893</td>\n",
              "    </tr>\n",
              "    <tr>\n",
              "      <th>1</th>\n",
              "      <td>0.630</td>\n",
              "      <td>0.530</td>\n",
              "      <td>0</td>\n",
              "      <td>-7.259</td>\n",
              "      <td>1</td>\n",
              "      <td>0.0434</td>\n",
              "      <td>0.400</td>\n",
              "      <td>0.000000</td>\n",
              "      <td>0.1770</td>\n",
              "      <td>0.417</td>\n",
              "      <td>108.038</td>\n",
              "    </tr>\n",
              "    <tr>\n",
              "      <th>2</th>\n",
              "      <td>0.456</td>\n",
              "      <td>0.636</td>\n",
              "      <td>1</td>\n",
              "      <td>-6.552</td>\n",
              "      <td>1</td>\n",
              "      <td>0.0432</td>\n",
              "      <td>0.462</td>\n",
              "      <td>0.000189</td>\n",
              "      <td>0.2520</td>\n",
              "      <td>0.492</td>\n",
              "      <td>183.866</td>\n",
              "    </tr>\n",
              "    <tr>\n",
              "      <th>3</th>\n",
              "      <td>0.586</td>\n",
              "      <td>0.128</td>\n",
              "      <td>7</td>\n",
              "      <td>-9.297</td>\n",
              "      <td>1</td>\n",
              "      <td>0.0496</td>\n",
              "      <td>0.963</td>\n",
              "      <td>0.000000</td>\n",
              "      <td>0.0858</td>\n",
              "      <td>0.371</td>\n",
              "      <td>123.498</td>\n",
              "    </tr>\n",
              "    <tr>\n",
              "      <th>4</th>\n",
              "      <td>0.651</td>\n",
              "      <td>0.663</td>\n",
              "      <td>0</td>\n",
              "      <td>-5.569</td>\n",
              "      <td>0</td>\n",
              "      <td>0.0281</td>\n",
              "      <td>0.228</td>\n",
              "      <td>0.000000</td>\n",
              "      <td>0.0994</td>\n",
              "      <td>0.465</td>\n",
              "      <td>102.000</td>\n",
              "    </tr>\n",
              "  </tbody>\n",
              "</table>\n",
              "</div>"
            ],
            "text/plain": [
              "      0      1   2      3   4       5      6         7       8      9   \\\n",
              "0  0.674  0.413   2 -7.816   1  0.0274  0.836  0.000019  0.0980  0.503   \n",
              "1  0.630  0.530   0 -7.259   1  0.0434  0.400  0.000000  0.1770  0.417   \n",
              "2  0.456  0.636   1 -6.552   1  0.0432  0.462  0.000189  0.2520  0.492   \n",
              "3  0.586  0.128   7 -9.297   1  0.0496  0.963  0.000000  0.0858  0.371   \n",
              "4  0.651  0.663   0 -5.569   0  0.0281  0.228  0.000000  0.0994  0.465   \n",
              "\n",
              "        10  \n",
              "0  124.893  \n",
              "1  108.038  \n",
              "2  183.866  \n",
              "3  123.498  \n",
              "4  102.000  "
            ]
          },
          "execution_count": 87,
          "metadata": {},
          "output_type": "execute_result"
        }
      ],
      "source": [
        "temp_df.head()"
      ]
    },
    {
      "cell_type": "code",
      "execution_count": null,
      "id": "9e39c382",
      "metadata": {
        "id": "9e39c382"
      },
      "outputs": [],
      "source": [
        "temp_df.to_csv(path_extra+'test.csv')"
      ]
    },
    {
      "cell_type": "code",
      "execution_count": null,
      "id": "28ee48cd",
      "metadata": {
        "id": "28ee48cd",
        "outputId": "5e7768d7-7a91-4649-ae6c-5323b2205f3f"
      },
      "outputs": [
        {
          "data": {
            "text/html": [
              "<div>\n",
              "<style scoped>\n",
              "    .dataframe tbody tr th:only-of-type {\n",
              "        vertical-align: middle;\n",
              "    }\n",
              "\n",
              "    .dataframe tbody tr th {\n",
              "        vertical-align: top;\n",
              "    }\n",
              "\n",
              "    .dataframe thead th {\n",
              "        text-align: right;\n",
              "    }\n",
              "</style>\n",
              "<table border=\"1\" class=\"dataframe\">\n",
              "  <thead>\n",
              "    <tr style=\"text-align: right;\">\n",
              "      <th></th>\n",
              "      <th>0</th>\n",
              "      <th>1</th>\n",
              "      <th>2</th>\n",
              "      <th>3</th>\n",
              "      <th>4</th>\n",
              "      <th>5</th>\n",
              "      <th>6</th>\n",
              "      <th>7</th>\n",
              "      <th>8</th>\n",
              "      <th>9</th>\n",
              "      <th>...</th>\n",
              "      <th>1</th>\n",
              "      <th>2</th>\n",
              "      <th>3</th>\n",
              "      <th>4</th>\n",
              "      <th>5</th>\n",
              "      <th>6</th>\n",
              "      <th>7</th>\n",
              "      <th>8</th>\n",
              "      <th>9</th>\n",
              "      <th>10</th>\n",
              "    </tr>\n",
              "  </thead>\n",
              "  <tbody>\n",
              "    <tr>\n",
              "      <th>0</th>\n",
              "      <td>0.738</td>\n",
              "      <td>0.482</td>\n",
              "      <td>6</td>\n",
              "      <td>-8.917</td>\n",
              "      <td>0</td>\n",
              "      <td>0.0402</td>\n",
              "      <td>0.02660</td>\n",
              "      <td>0.62100</td>\n",
              "      <td>0.1060</td>\n",
              "      <td>0.352</td>\n",
              "      <td>...</td>\n",
              "      <td>0.482</td>\n",
              "      <td>6</td>\n",
              "      <td>-8.917</td>\n",
              "      <td>0</td>\n",
              "      <td>0.0402</td>\n",
              "      <td>0.02660</td>\n",
              "      <td>0.62100</td>\n",
              "      <td>0.1060</td>\n",
              "      <td>0.352</td>\n",
              "      <td>93.457</td>\n",
              "    </tr>\n",
              "    <tr>\n",
              "      <th>1</th>\n",
              "      <td>0.545</td>\n",
              "      <td>0.675</td>\n",
              "      <td>6</td>\n",
              "      <td>-6.474</td>\n",
              "      <td>1</td>\n",
              "      <td>0.0279</td>\n",
              "      <td>0.00617</td>\n",
              "      <td>0.00197</td>\n",
              "      <td>0.2090</td>\n",
              "      <td>0.162</td>\n",
              "      <td>...</td>\n",
              "      <td>0.675</td>\n",
              "      <td>6</td>\n",
              "      <td>-6.474</td>\n",
              "      <td>1</td>\n",
              "      <td>0.0279</td>\n",
              "      <td>0.00617</td>\n",
              "      <td>0.00197</td>\n",
              "      <td>0.2090</td>\n",
              "      <td>0.162</td>\n",
              "      <td>124.970</td>\n",
              "    </tr>\n",
              "    <tr>\n",
              "      <th>2</th>\n",
              "      <td>0.432</td>\n",
              "      <td>0.358</td>\n",
              "      <td>2</td>\n",
              "      <td>-9.970</td>\n",
              "      <td>1</td>\n",
              "      <td>0.0309</td>\n",
              "      <td>0.81500</td>\n",
              "      <td>0.01030</td>\n",
              "      <td>0.1920</td>\n",
              "      <td>0.166</td>\n",
              "      <td>...</td>\n",
              "      <td>0.358</td>\n",
              "      <td>2</td>\n",
              "      <td>-9.970</td>\n",
              "      <td>1</td>\n",
              "      <td>0.0309</td>\n",
              "      <td>0.81500</td>\n",
              "      <td>0.01030</td>\n",
              "      <td>0.1920</td>\n",
              "      <td>0.166</td>\n",
              "      <td>81.119</td>\n",
              "    </tr>\n",
              "    <tr>\n",
              "      <th>3</th>\n",
              "      <td>0.793</td>\n",
              "      <td>0.442</td>\n",
              "      <td>8</td>\n",
              "      <td>-11.293</td>\n",
              "      <td>0</td>\n",
              "      <td>0.0564</td>\n",
              "      <td>0.23600</td>\n",
              "      <td>0.00163</td>\n",
              "      <td>0.0662</td>\n",
              "      <td>0.833</td>\n",
              "      <td>...</td>\n",
              "      <td>0.442</td>\n",
              "      <td>8</td>\n",
              "      <td>-11.293</td>\n",
              "      <td>0</td>\n",
              "      <td>0.0564</td>\n",
              "      <td>0.23600</td>\n",
              "      <td>0.00163</td>\n",
              "      <td>0.0662</td>\n",
              "      <td>0.833</td>\n",
              "      <td>115.995</td>\n",
              "    </tr>\n",
              "  </tbody>\n",
              "</table>\n",
              "<p>4 rows × 22 columns</p>\n",
              "</div>"
            ],
            "text/plain": [
              "      0      1   2       3   4       5        6        7       8      9   ...  \\\n",
              "0  0.738  0.482   6  -8.917   0  0.0402  0.02660  0.62100  0.1060  0.352  ...   \n",
              "1  0.545  0.675   6  -6.474   1  0.0279  0.00617  0.00197  0.2090  0.162  ...   \n",
              "2  0.432  0.358   2  -9.970   1  0.0309  0.81500  0.01030  0.1920  0.166  ...   \n",
              "3  0.793  0.442   8 -11.293   0  0.0564  0.23600  0.00163  0.0662  0.833  ...   \n",
              "\n",
              "      1   2       3   4       5        6        7       8      9        10  \n",
              "0  0.482   6  -8.917   0  0.0402  0.02660  0.62100  0.1060  0.352   93.457  \n",
              "1  0.675   6  -6.474   1  0.0279  0.00617  0.00197  0.2090  0.162  124.970  \n",
              "2  0.358   2  -9.970   1  0.0309  0.81500  0.01030  0.1920  0.166   81.119  \n",
              "3  0.442   8 -11.293   0  0.0564  0.23600  0.00163  0.0662  0.833  115.995  \n",
              "\n",
              "[4 rows x 22 columns]"
            ]
          },
          "execution_count": 56,
          "metadata": {},
          "output_type": "execute_result"
        }
      ],
      "source": [
        "pd.concat([temp_df, temp_df], axis=1)"
      ]
    }
  ],
  "metadata": {
    "kernelspec": {
      "display_name": "Python 3 (ipykernel)",
      "language": "python",
      "name": "python3"
    },
    "language_info": {
      "codemirror_mode": {
        "name": "ipython",
        "version": 3
      },
      "file_extension": ".py",
      "mimetype": "text/x-python",
      "name": "python",
      "nbconvert_exporter": "python",
      "pygments_lexer": "ipython3",
      "version": "3.9.7"
    },
    "colab": {
      "provenance": [],
      "include_colab_link": true
    }
  },
  "nbformat": 4,
  "nbformat_minor": 5
}